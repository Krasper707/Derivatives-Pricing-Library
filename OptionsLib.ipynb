{
 "cells": [
  {
   "cell_type": "code",
   "execution_count": 37,
   "id": "08fd93b1-3a08-4359-b313-1570f1f2f9f7",
   "metadata": {},
   "outputs": [],
   "source": [
    "import numpy as np\n",
    "from scipy.stats import norm\n",
    "\n",
    "def black_scholes(S, K, r, t, sigma, option_Type=\"Call\", q=0):\n",
    "    \"\"\"\n",
    "    Black-Scholes Option Pricing Model with Greeks.\n",
    "    \n",
    "    Parameters:\n",
    "    S : float or array-like - Current stock price\n",
    "    K : float or array-like - Strike price\n",
    "    r : float - Risk-free interest rate (annualized)\n",
    "    t : float - Time to expiration (in years)\n",
    "    sigma : float - Volatility of the stock (annualized)\n",
    "    option_Type : str - \"Call\" for call option, \"Put\" for put option\n",
    "    q : float - Continuous dividend yield (default 0)\n",
    "\n",
    "    Returns:\n",
    "    tuple: (option price, delta, gamma, vega, theta, rho)\n",
    "    \"\"\"\n",
    "\n",
    "    S, K, t, sigma = map(np.asarray, (S, K, t, sigma))\n",
    "\n",
    "    if np.any(t <= 0):\n",
    "        intrinsic_value = np.maximum(0, S - K) if option_Type == \"Call\" else np.maximum(0, K - S)\n",
    "        return intrinsic_value, np.zeros_like(S), np.zeros_like(S), np.zeros_like(S), np.zeros_like(S), np.zeros_like(S)\n",
    "\n",
    "    sqrt_t = np.sqrt(t)\n",
    "    \n",
    "    d1 = (np.log(S / K) + (r - q + 0.5 * sigma**2) * t) / (sigma * sqrt_t)\n",
    "    d2 = d1 - sigma * sqrt_t\n",
    "\n",
    "    Nd1 = norm.cdf(d1)\n",
    "    Nd2 = norm.cdf(d2)\n",
    "    Nmd1 = norm.cdf(-d1)\n",
    "    Nmd2 = norm.cdf(-d2)\n",
    "\n",
    "    if option_Type == \"Call\":\n",
    "        price = S * np.exp(-q * t) * Nd1 - K * np.exp(-r * t) * Nd2\n",
    "        delta = np.exp(-q * t) * Nd1\n",
    "        theta = (-S * sigma * np.exp(-q * t) * norm.pdf(d1)) / (2 * sqrt_t) - r * K * np.exp(-r * t) * Nd2 + q * S * np.exp(-q * t) * Nd1\n",
    "        rho = K * t * np.exp(-r * t) * Nd2\n",
    "\n",
    "    elif option_Type == \"Put\":\n",
    "        price = K * np.exp(-r * t) * Nmd2 - S * np.exp(-q * t) * Nmd1\n",
    "        delta = np.exp(-q * t) * Nmd1\n",
    "        theta = (-S * sigma * np.exp(-q * t) * norm.pdf(d1)) / (2 * sqrt_t) + r * K * np.exp(-r * t) * Nmd2 - q * S * np.exp(-q * t) * Nmd1\n",
    "        rho = -K * t * np.exp(-r * t) * Nmd2\n",
    "\n",
    "    else:\n",
    "        raise ValueError('Invalid option type. Choose \"Call\" or \"Put\".')\n",
    "\n",
    "    gamma = (np.exp(-q * t) * norm.pdf(d1)) / (S * sigma * sqrt_t)\n",
    "    vega = S * sqrt_t * np.exp(-q * t) * norm.pdf(d1)\n",
    "\n",
    "    return price, delta, gamma, vega, theta, rho\n"
   ]
  },
  {
   "cell_type": "code",
   "execution_count": 38,
   "id": "2be1739e-4342-451f-b92d-f5e4381d20ec",
   "metadata": {},
   "outputs": [],
   "source": [
    "def monte_carlo_european(S0, K, T, r, sigma, option_type=\"Call\", num_simulations=10000, num_steps=252):\n",
    "    '''Monte Carlo Simulation to price a European Call or Put option using GBM\n",
    "    Params:\n",
    "    S0: inital stock price\n",
    "    K:Strike Price\n",
    "    T:Time to expiration(years)\n",
    "    r:risk free interest rate\n",
    "    sigma: Volatility of stock\n",
    "    option_type: \"Call\" for call option, \"Put\" for put option\"\n",
    "    num_simulations: number of Monte Carlo Simulations\n",
    "    num_steps: Number of time steps in simulation\n",
    "    Returns:\n",
    "    float: Estimated option price\n",
    "    '''\n",
    "    dt=T/num_steps\n",
    "    np.random.seed(42)\n",
    "\n",
    "    Z=np.random.standard_normal((num_simulations,num_steps))\n",
    "    S=np.zeros((num_simulations,num_steps))\n",
    "    S[:,0]=S0\n",
    "    for t in range(1,num_steps):\n",
    "        S[:, t] = S[:, t - 1] * np.exp((r - 0.5 * sigma**2) * dt + sigma * np.sqrt(dt) * Z[:, t])\n",
    "\n",
    "    #Compute option payout when it expires cuz why not\n",
    "\n",
    "    ST=S[:,-1]\n",
    "    if option_type==\"Call\":\n",
    "        payoff=np.maximum(ST-K,0)\n",
    "    elif option_type==\"Put\":\n",
    "        payoff=np.maximum(K-ST,0)\n",
    "    else:\n",
    "        raise ValueError(\"Invalid Option Type: Choose 'Put' or 'Call'\")\n",
    "    \n",
    "    option_price=np.exp(-r*T)*np.mean(payoff)\n",
    "    return option_price\n",
    "    \n",
    "    \n",
    "    \n",
    "    "
   ]
  },
  {
   "cell_type": "code",
   "execution_count": 39,
   "id": "49861ec9-6551-494f-b1f7-90ab54e17c2a",
   "metadata": {},
   "outputs": [
    {
     "name": "stdout",
     "output_type": "stream",
     "text": [
      "Call Option Prices: [0.35580583 2.00176485 5.58665301]\n",
      "Put Option Prices: [5.09099255 1.74194906 0.33183472]\n",
      "Call Delta: [0.15533493 0.53048157 0.86735597], Put Delta: [0.84366557 0.46851893 0.13164453]\n",
      "Gamma: [0.05334059 0.0846168  0.04336447]\n",
      "Vega: [5.33405863 9.32900261 5.2471008 ]\n",
      "Call Theta: [-25.53513414 -71.2427942  -98.40852233], Put Theta: [77.10210156 31.29454145  4.02891327]\n",
      "Call Rho: [0.75888434 2.68494001 4.49112519], Put Rho: [-4.4728775  -2.54682182 -0.74063664]\n"
     ]
    }
   ],
   "source": [
    "S = np.array([100, 105, 110]) \n",
    "K = 110   \n",
    "T = 1     \n",
    "r = 0.05  \n",
    "sigma = 0.2  \n",
    "q = 0.02  \n",
    "\n",
    "call_price, call_delta, call_gamma, call_vega, call_theta, call_rho = black_scholes(S, K, T, r, sigma, option_Type=\"Call\", q=q)\n",
    "put_price, put_delta, put_gamma, put_vega, put_theta, put_rho = black_scholes(S, K, T, r, sigma, option_Type=\"Put\", q=q)\n",
    "\n",
    "print(f\"Call Option Prices: {call_price}\")\n",
    "print(f\"Put Option Prices: {put_price}\")\n",
    "print(f\"Call Delta: {call_delta}, Put Delta: {put_delta}\")\n",
    "print(f\"Gamma: {call_gamma}\")\n",
    "print(f\"Vega: {call_vega}\")\n",
    "print(f\"Call Theta: {call_theta}, Put Theta: {put_theta}\")\n",
    "print(f\"Call Rho: {call_rho}, Put Rho: {put_rho}\")\n"
   ]
  },
  {
   "cell_type": "code",
   "execution_count": 40,
   "id": "2ab1f299-35b7-4efb-867d-4bb8ccda61f8",
   "metadata": {},
   "outputs": [
    {
     "name": "stdout",
     "output_type": "stream",
     "text": [
      "Monte Carlo Call Option Price: 5.7990\n",
      "Monte Carlo Put Option Price: 10.6474\n"
     ]
    }
   ],
   "source": [
    "S0 = 100    \n",
    "K = 110     \n",
    "T = 1      \n",
    "r = 0.05   \n",
    "sigma = 0.2 \n",
    "\n",
    "call_price = monte_carlo_european(S0, K, T, r, sigma, option_type=\"Call\")\n",
    "put_price = monte_carlo_european(S0, K, T, r, sigma, option_type=\"Put\")\n",
    "\n",
    "print(f\"Monte Carlo Call Option Price: {call_price:.4f}\")\n",
    "print(f\"Monte Carlo Put Option Price: {put_price:.4f}\")\n"
   ]
  }
 ],
 "metadata": {
  "kernelspec": {
   "display_name": "Python 3 (ipykernel)",
   "language": "python",
   "name": "python3"
  },
  "language_info": {
   "codemirror_mode": {
    "name": "ipython",
    "version": 3
   },
   "file_extension": ".py",
   "mimetype": "text/x-python",
   "name": "python",
   "nbconvert_exporter": "python",
   "pygments_lexer": "ipython3",
   "version": "3.11.4"
  }
 },
 "nbformat": 4,
 "nbformat_minor": 5
}
